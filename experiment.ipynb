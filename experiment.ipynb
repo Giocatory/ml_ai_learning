{
  "cells": [
    {
      "cell_type": "markdown",
      "metadata": {
        "id": "view-in-github",
        "colab_type": "text"
      },
      "source": [
        "<a href=\"https://colab.research.google.com/github/Giocatory/ml_ai_learning/blob/main/experiment.ipynb\" target=\"_parent\"><img src=\"https://colab.research.google.com/assets/colab-badge.svg\" alt=\"Open In Colab\"/></a>"
      ]
    },
    {
      "cell_type": "code",
      "source": [
        "from tensorflow.keras.datasets import mnist     # Библиотека с базой рукописных цифр\n",
        "from tensorflow.keras.models import Sequential  # Подключение класса создания модели Sequential\n",
        "from tensorflow.keras.optimizers import Adam\n",
        "from tensorflow.keras.layers import Dense       # Подключение класса Dense - полносвязный слой\n",
        "from tensorflow.keras import utils              # Утилиты для подготовки данных\n",
        "import numpy as np                              # Работа с массивами\n",
        "import matplotlib.pyplot as plt                 # Отрисовка изображений"
      ],
      "metadata": {
        "id": "9mP4y4ku-APq"
      },
      "execution_count": 1,
      "outputs": []
    },
    {
      "cell_type": "markdown",
      "source": [
        "x_train_org, y_train_org – изображения для обучения нейронной сети;\n",
        "\n",
        "x_test_org, y_test_org – изображения для тестирования нейронной сети."
      ],
      "metadata": {
        "id": "bjwZB1vp-ZRs"
      }
    },
    {
      "cell_type": "code",
      "source": [
        "(x_train_org, y_train_org), (x_test_org, y_test_org) = mnist.load_data()"
      ],
      "metadata": {
        "colab": {
          "base_uri": "https://localhost:8080/"
        },
        "id": "mlnemEEv-Dou",
        "outputId": "797e5f21-9157-4e9f-9438-d3d777058e4f"
      },
      "execution_count": 2,
      "outputs": [
        {
          "output_type": "stream",
          "name": "stdout",
          "text": [
            "Downloading data from https://storage.googleapis.com/tensorflow/tf-keras-datasets/mnist.npz\n",
            "11490434/11490434 [==============================] - 0s 0us/step\n"
          ]
        }
      ]
    },
    {
      "cell_type": "code",
      "source": [
        "# Вывод формы данных для обучения\n",
        "print(x_train_org.shape)\n",
        "print(y_train_org.shape)\n",
        "print(x_test_org.shape)\n",
        "print(y_test_org.shape)"
      ],
      "metadata": {
        "colab": {
          "base_uri": "https://localhost:8080/"
        },
        "id": "RwumJVyV-Tcp",
        "outputId": "f648645c-bb66-4357-c604-bda1b662bb46"
      },
      "execution_count": 4,
      "outputs": [
        {
          "output_type": "stream",
          "name": "stdout",
          "text": [
            "(60000, 28, 28)\n",
            "(60000,)\n",
            "(10000, 28, 28)\n",
            "(10000,)\n"
          ]
        }
      ]
    },
    {
      "cell_type": "code",
      "source": [
        "# Убедитесь, что ваши данные действительно представляют собой картинки с числами.\n",
        "example_x_train = x_train_org[143]\n",
        "print(example_x_train.shape)\n",
        "print(y_train_org[143])\n",
        "\n",
        "plt.imshow(example_x_train, cmap='gray')\n",
        "plt.show()"
      ],
      "metadata": {
        "colab": {
          "base_uri": "https://localhost:8080/",
          "height": 465
        },
        "id": "3oPNE27M-3Iz",
        "outputId": "58aa71e4-41af-4357-edf8-25f2da51a463"
      },
      "execution_count": 17,
      "outputs": [
        {
          "output_type": "stream",
          "name": "stdout",
          "text": [
            "(28, 28)\n",
            "2\n"
          ]
        },
        {
          "output_type": "display_data",
          "data": {
            "text/plain": [
              "<Figure size 640x480 with 1 Axes>"
            ],
            "image/png": "[encoded data removed]"
          },
          "metadata": {}
        }
      ]
    },
    {
      "cell_type": "code",
      "source": [
        "# Изменение формы входных картинок с 28х28 на 784\n",
        "# первая ось остается без изменения, остальные складываются в вектор\n",
        "x_train = x_train_org.reshape(x_train_org.shape[0], -1)\n",
        "x_test = x_test_org.reshape(x_test_org.shape[0], -1)\n",
        "\n",
        "# Проверка результата\n",
        "print(f'Форма обучающих данных: {x_train_org.shape} -> {x_train.shape}')\n",
        "print(f'Форма  тестовых данных: {x_test_org.shape} -> {x_test.shape}')"
      ],
      "metadata": {
        "colab": {
          "base_uri": "https://localhost:8080/"
        },
        "id": "xnLSWvIrJTC5",
        "outputId": "44240ba8-350d-4dac-945c-0c8fa98d5a5d"
      },
      "execution_count": 18,
      "outputs": [
        {
          "output_type": "stream",
          "name": "stdout",
          "text": [
            "Форма обучающих данных: (60000, 28, 28) -> (60000, 784)\n",
            "Форма  тестовых данных: (10000, 28, 28) -> (10000, 784)\n"
          ]
        }
      ]
    },
    {
      "cell_type": "code",
      "source": [
        "# Нормализация входных картинок\n",
        "# Преобразование x_train в тип float32 (числа с плавающей точкой) и нормализация\n",
        "x_train = x_train.astype('float32') / 255.\n",
        "\n",
        "# Преобразование x_test в тип float32 (числа с плавающей точкой) и нормализация\n",
        "x_test = x_test.astype('float32') / 255."
      ],
      "metadata": {
        "id": "nlB7cx9SJbvk"
      },
      "execution_count": 19,
      "outputs": []
    },
    {
      "cell_type": "code",
      "source": [
        "# Задание константы количества распознаваемых классов\n",
        "\n",
        "CLASS_COUNT = 10"
      ],
      "metadata": {
        "id": "vEZaCxgELhci"
      },
      "execution_count": 20,
      "outputs": []
    },
    {
      "cell_type": "code",
      "source": [
        "# Преобразование ответов в формат one_hot_encoding\n",
        "y_train = utils.to_categorical(y_train_org, CLASS_COUNT)\n",
        "y_test = utils.to_categorical(y_test_org, CLASS_COUNT)"
      ],
      "metadata": {
        "id": "-DViHJtkLivi"
      },
      "execution_count": 21,
      "outputs": []
    },
    {
      "cell_type": "code",
      "source": [
        "# Вывод формы y_train\n",
        "# 60 тысяч примеров, каждый длины 10 по числу классов\n",
        "print(y_train.shape)"
      ],
      "metadata": {
        "colab": {
          "base_uri": "https://localhost:8080/"
        },
        "id": "6KorZVxRLrfF",
        "outputId": "138c92b0-1b18-464e-93d4-c466b14bd174"
      },
      "execution_count": 22,
      "outputs": [
        {
          "output_type": "stream",
          "name": "stdout",
          "text": [
            "(60000, 10)\n"
          ]
        }
      ]
    },
    {
      "cell_type": "code",
      "source": [
        "# Вывод примера одного выходного вектора\n",
        "print(y_train[0])"
      ],
      "metadata": {
        "colab": {
          "base_uri": "https://localhost:8080/"
        },
        "id": "7D6j6hnIL5oS",
        "outputId": "68fc17f9-bb7d-46b6-a3ac-20b2e2048410"
      },
      "execution_count": 23,
      "outputs": [
        {
          "output_type": "stream",
          "name": "stdout",
          "text": [
            "[0. 0. 0. 0. 0. 1. 0. 0. 0. 0.]\n"
          ]
        }
      ]
    },
    {
      "cell_type": "code",
      "source": [
        "# Вывод формы массива меток\n",
        "print(y_train_org.shape)"
      ],
      "metadata": {
        "colab": {
          "base_uri": "https://localhost:8080/"
        },
        "id": "X83GCi7zMFVX",
        "outputId": "a417b74f-fcd8-4ca8-bb83-ab965ce6c0b3"
      },
      "execution_count": 24,
      "outputs": [
        {
          "output_type": "stream",
          "name": "stdout",
          "text": [
            "(60000,)\n"
          ]
        }
      ]
    },
    {
      "cell_type": "code",
      "source": [
        "# Вывод метки, соответствующей 36-му элементу\n",
        "print(y_train_org[143])"
      ],
      "metadata": {
        "colab": {
          "base_uri": "https://localhost:8080/"
        },
        "id": "1wTO_BWPMI0P",
        "outputId": "d2e1d0bb-8682-46f9-9b1f-d0e29b2b47ec"
      },
      "execution_count": 26,
      "outputs": [
        {
          "output_type": "stream",
          "name": "stdout",
          "text": [
            "2\n"
          ]
        }
      ]
    },
    {
      "cell_type": "markdown",
      "source": [
        "Создание нейронной сети"
      ],
      "metadata": {
        "id": "yFST9P_cMOrw"
      }
    },
    {
      "cell_type": "code",
      "source": [
        "# Создание последовательной модели\n",
        "model = Sequential()\n",
        "\n",
        "# Добавление полносвязного слоя на 800 нейронов с relu-активацией\n",
        "model.add(Dense(800, input_dim=784, activation='relu', name='Dense_800'))\n",
        "\n",
        "# Добавление полносвязного слоя на 400 нейронов с relu-активацией\n",
        "model.add(Dense(400, activation='relu', name='Dense_400'))\n",
        "\n",
        "# Добавление полносвязного слоя с количеством нейронов по числу классов с softmax-активацией\n",
        "model.add(Dense(CLASS_COUNT, activation='softmax', name='Dense_10'))"
      ],
      "metadata": {
        "id": "cPe2embxMPR9"
      },
      "execution_count": null,
      "outputs": []
    }
  ],
  "metadata": {
    "colab": {
      "provenance": [],
      "include_colab_link": true
    },
    "kernelspec": {
      "display_name": "Python 3",
      "name": "python3"
    },
    "language_info": {
      "codemirror_mode": {
        "name": "ipython",
        "version": 3
      },
      "file_extension": ".py",
      "mimetype": "text/x-python",
      "name": "python",
      "nbconvert_exporter": "python",
      "pygments_lexer": "ipython3",
      "version": "3.11.5"
    }
  },
  "nbformat": 4,
  "nbformat_minor": 0
}