{
  "nbformat": 4,
  "nbformat_minor": 0,
  "metadata": {
    "colab": {
      "provenance": [],
      "include_colab_link": true
    },
    "kernelspec": {
      "name": "python3",
      "display_name": "Python 3"
    },
    "language_info": {
      "name": "python"
    },
    "accelerator": "GPU"
  },
  "cells": [
    {
      "cell_type": "markdown",
      "metadata": {
        "id": "view-in-github",
        "colab_type": "text"
      },
      "source": [
        "<a href=\"https://colab.research.google.com/github/Giocatory/ml_ai_learning/blob/main/%D0%A1%D0%B2%D0%B5%D1%80%D1%82%D0%BE%D1%87%D0%BD%D1%8B%D0%B5_%D0%BD%D0%B5%D0%B9%D1%80%D0%BE%D0%BD%D0%BD%D1%8B%D0%B5_%D1%81%D0%B5%D1%82%D0%B8_Lite.ipynb\" target=\"_parent\"><img src=\"https://colab.research.google.com/assets/colab-badge.svg\" alt=\"Open In Colab\"/></a>"
      ]
    },
    {
      "cell_type": "markdown",
      "metadata": {
        "id": "d_qXycKuUA51"
      },
      "source": [
        "### Задание"
      ]
    },
    {
      "cell_type": "markdown",
      "metadata": {
        "id": "PIUdD6H0FBGC"
      },
      "source": [
        "Создайте нейронную сеть, распознающую рукописные цифры. Используя подготовленную базу и шаблон ноутбука, нормируйте данные, создайте и обучите сверточную сеть.\n",
        "\n",
        "**Параметры модели:** сеть должна содержать минимум 2 сверточных слоя; полносвязные слои; слои подвыборки, нормализации, регуляризации по 1 шт.\n",
        "\n",
        "**Гиперпараметры обучения:** функция ошибки - категориальная кроссэнтропия, оптимизатор - Adam с шагом обучения одна тысячная, размер батча - 128, количество эпох 15, детали обучения - отображать.\n",
        "\n",
        "**В конце** выведите график обучения: доли верных ответов на обучающей и проверочной выборках.\n"
      ]
    },
    {
      "cell_type": "code",
      "metadata": {
        "id": "MKXGv21tHGLr"
      },
      "source": [
        "# загрузка датасета MNIST\n",
        "\n",
        "from tensorflow.keras.datasets import mnist\n",
        "(x_train, y_train), (x_test, y_test) = mnist.load_data()"
      ],
      "execution_count": 1,
      "outputs": []
    },
    {
      "cell_type": "code",
      "metadata": {
        "id": "2zDFM0apy8-R"
      },
      "source": [
        "# Подключение утилит для to_categorical\n",
        "from tensorflow.keras import utils\n",
        "\n",
        "# Подключение библиотеки для работы с массивами\n",
        "import numpy as np\n",
        "\n",
        "# Подключение библиотек для отрисовки изображений\n",
        "import matplotlib.pyplot as plt\n",
        "\n",
        "# Подключение библиотеки для генерации случайных чисел\n",
        "import random\n",
        "\n",
        "# Подключение класса для работы с изображением\n",
        "from PIL import Image\n",
        "\n",
        "# Вывод изображения в ноутбуке, а не в консоли или файле\n",
        "%matplotlib inline"
      ],
      "execution_count": 2,
      "outputs": []
    },
    {
      "cell_type": "code",
      "metadata": {
        "colab": {
          "base_uri": "https://localhost:8080/",
          "height": 227
        },
        "id": "m3975_TeIOCl",
        "outputId": "0573b26e-17aa-454f-dad5-242383c9dd34"
      },
      "source": [
        "# вывод изображений каждого класса для ознакомления с датасетом\n",
        "\n",
        "fig, axs = plt.subplots(1, 10, figsize=(25,3)) # создаем полотно для 10 графиков с размером 25 на 3\n",
        "for i in range(10):\n",
        "  label_indexes = np.where(y_train == i)[0] # получаем список из индексов положений класса i в y_train\n",
        "  index = random.choice(label_indexes) # выбирает случайный индекс из списка созданного выше\n",
        "  img = x_train[index] # выбираем из x_train нужное положение\n",
        "  axs[i].imshow(Image.fromarray(img), cmap='gray') # выводим изображение\n",
        "\n",
        "plt.show()"
      ],
      "execution_count": 3,
      "outputs": [
        {
          "output_type": "display_data",
          "data": {
            "text/plain": [
              "<Figure size 2500x300 with 10 Axes>"
            ],
            "image/png": "[encoded data removed]"
          },
          "metadata": {}
        }
      ]
    },
    {
      "cell_type": "code",
      "metadata": {
        "colab": {
          "base_uri": "https://localhost:8080/"
        },
        "id": "pEZFm-i_InWB",
        "outputId": "c089a460-2b3f-469a-c720-31e4e266544b"
      },
      "source": [
        "# добавляем размерность массиву mnist, чтобы сеть поняла что это чб\n",
        "x_train = x_train.reshape(x_train.shape[0], x_train.shape[1], x_train.shape[2], 1)\n",
        "x_test = x_test.reshape(x_test.shape[0], x_test.shape[1], x_test.shape[2], 1)\n",
        "\n",
        "# преобразуем выборки с ответами в OHE\n",
        "y_train = utils.to_categorical(y_train, 10)\n",
        "y_test = utils.to_categorical(y_test, 10)\n",
        "\n",
        "# посмотрим форматы выборок перед обучением\n",
        "print('x_train:', x_train.shape)\n",
        "print('x_test:', x_test.shape)\n",
        "print()\n",
        "print('y_train:', y_train.shape)\n",
        "print('y_test:', y_test.shape)"
      ],
      "execution_count": 4,
      "outputs": [
        {
          "output_type": "stream",
          "name": "stdout",
          "text": [
            "x_train: (60000, 28, 28, 1)\n",
            "x_test: (10000, 28, 28, 1)\n",
            "\n",
            "y_train: (60000, 10)\n",
            "y_test: (10000, 10)\n"
          ]
        }
      ]
    },
    {
      "cell_type": "code",
      "metadata": {
        "id": "orhn9spbj4I6"
      },
      "source": [
        "# Ваше решение\n",
        "from tensorflow.keras.models import Sequential\n",
        "from tensorflow.keras.layers import Dense, Conv2D, MaxPooling2D, BatchNormalization, Flatten, Dropout, Convolution2D\n",
        "from tensorflow.keras.optimizers import Adam"
      ],
      "execution_count": 5,
      "outputs": []
    },
    {
      "cell_type": "code",
      "source": [
        "x_train = x_train / 255.0\n",
        "x_test = x_test / 255.0"
      ],
      "metadata": {
        "id": "lil1LfTGlAuC"
      },
      "execution_count": 6,
      "outputs": []
    },
    {
      "cell_type": "code",
      "source": [
        "# Параметры модели: сеть должна содержать минимум 2 сверточных слоя; полносвязные слои; слои подвыборки, нормализации, регуляризации по 1 шт.\n",
        "model = Sequential()\n",
        "model.add(Conv2D(32, (3, 3), padding='same', input_shape=(28, 28, 1), activation='relu'))\n",
        "model.add(Conv2D(6, (2, 2), strides=(2, 2), padding='valid', activation='relu'))\n",
        "model.add(MaxPooling2D(pool_size=(2, 2)))\n",
        "model.add(Flatten())\n",
        "model.add(Dense(128, activation='relu'))\n",
        "model.add(BatchNormalization())\n",
        "model.add(Dropout(0.2))\n",
        "model.add(Dense(10, activation='softmax'))\n",
        "\n",
        "model.summary()\n",
        "model.compile(optimizer=Adam(learning_rate=0.001), loss='categorical_crossentropy', metrics=['accuracy'])"
      ],
      "metadata": {
        "colab": {
          "base_uri": "https://localhost:8080/"
        },
        "id": "c-kdc-Dwg1Dq",
        "outputId": "7cb015f2-7452-4e29-c90f-482518959cae"
      },
      "execution_count": 7,
      "outputs": [
        {
          "output_type": "stream",
          "name": "stdout",
          "text": [
            "Model: \"sequential\"\n",
            "_________________________________________________________________\n",
            " Layer (type)                Output Shape              Param #   \n",
            "=================================================================\n",
            " conv2d (Conv2D)             (None, 28, 28, 32)        320       \n",
            "                                                                 \n",
            " conv2d_1 (Conv2D)           (None, 14, 14, 6)         774       \n",
            "                                                                 \n",
            " max_pooling2d (MaxPooling2  (None, 7, 7, 6)           0         \n",
            " D)                                                              \n",
            "                                                                 \n",
            " flatten (Flatten)           (None, 294)               0         \n",
            "                                                                 \n",
            " dense (Dense)               (None, 128)               37760     \n",
            "                                                                 \n",
            " batch_normalization (Batch  (None, 128)               512       \n",
            " Normalization)                                                  \n",
            "                                                                 \n",
            " dropout (Dropout)           (None, 128)               0         \n",
            "                                                                 \n",
            " dense_1 (Dense)             (None, 10)                1290      \n",
            "                                                                 \n",
            "=================================================================\n",
            "Total params: 40656 (158.81 KB)\n",
            "Trainable params: 40400 (157.81 KB)\n",
            "Non-trainable params: 256 (1.00 KB)\n",
            "_________________________________________________________________\n"
          ]
        }
      ]
    },
    {
      "cell_type": "code",
      "source": [
        "# Гиперпараметры обучения: функция ошибки - категориальная кроссэнтропия, оптимизатор - Adam с шагом обучения одна тысячная, размер батча - 128, количество эпох 15, детали обучения - отображать.\n",
        "history = model.fit(x_train, y_train, batch_size=128, epochs=15, verbose=1)"
      ],
      "metadata": {
        "id": "n3ataXqlDc6X",
        "colab": {
          "base_uri": "https://localhost:8080/"
        },
        "outputId": "33f52faf-9460-4309-fdb7-6be1f6805148"
      },
      "execution_count": 8,
      "outputs": [
        {
          "output_type": "stream",
          "name": "stdout",
          "text": [
            "Epoch 1/15\n",
            "469/469 [==============================] - 12s 6ms/step - loss: 0.2888 - accuracy: 0.9127\n",
            "Epoch 2/15\n",
            "469/469 [==============================] - 2s 5ms/step - loss: 0.1013 - accuracy: 0.9687\n",
            "Epoch 3/15\n",
            "469/469 [==============================] - 2s 5ms/step - loss: 0.0743 - accuracy: 0.9776\n",
            "Epoch 4/15\n",
            "469/469 [==============================] - 3s 6ms/step - loss: 0.0577 - accuracy: 0.9824\n",
            "Epoch 5/15\n",
            "469/469 [==============================] - 3s 7ms/step - loss: 0.0509 - accuracy: 0.9839\n",
            "Epoch 6/15\n",
            "469/469 [==============================] - 2s 5ms/step - loss: 0.0443 - accuracy: 0.9864\n",
            "Epoch 7/15\n",
            "469/469 [==============================] - 3s 5ms/step - loss: 0.0401 - accuracy: 0.9873\n",
            "Epoch 8/15\n",
            "469/469 [==============================] - 2s 5ms/step - loss: 0.0361 - accuracy: 0.9883\n",
            "Epoch 9/15\n",
            "469/469 [==============================] - 3s 6ms/step - loss: 0.0338 - accuracy: 0.9893\n",
            "Epoch 10/15\n",
            "469/469 [==============================] - 3s 7ms/step - loss: 0.0314 - accuracy: 0.9895\n",
            "Epoch 11/15\n",
            "469/469 [==============================] - 3s 5ms/step - loss: 0.0296 - accuracy: 0.9903\n",
            "Epoch 12/15\n",
            "469/469 [==============================] - 3s 5ms/step - loss: 0.0265 - accuracy: 0.9910\n",
            "Epoch 13/15\n",
            "469/469 [==============================] - 3s 5ms/step - loss: 0.0256 - accuracy: 0.9915\n",
            "Epoch 14/15\n",
            "469/469 [==============================] - 3s 6ms/step - loss: 0.0253 - accuracy: 0.9915\n",
            "Epoch 15/15\n",
            "469/469 [==============================] - 3s 7ms/step - loss: 0.0212 - accuracy: 0.9929\n"
          ]
        }
      ]
    },
    {
      "cell_type": "code",
      "source": [
        "# В конце выведите график обучения: доли верных ответов на обучающей и проверочной выборках."
      ],
      "metadata": {
        "id": "R1pintc8jZjb"
      },
      "execution_count": 9,
      "outputs": []
    },
    {
      "cell_type": "code",
      "source": [
        "plt.figure()\n",
        "epochs = range(1, len(history.history['accuracy']) + 1)\n",
        "plt.plot(epochs, history.history['accuracy'], 'o-', label='accuracy')\n",
        "plt.plot([1, 14], [0.95, 0.95])\n",
        "plt.title('Learning curve for '+'accuracy')\n",
        "plt.xlabel('Epochs')\n",
        "plt.ylabel('accuracy')\n",
        "plt.legend()\n",
        "#plot_learning_curve(history, 'accuracy')\n",
        "plt.show()"
      ],
      "metadata": {
        "colab": {
          "base_uri": "https://localhost:8080/",
          "height": 472
        },
        "id": "R-Ucs2UqlnoG",
        "outputId": "1504b5a0-0e37-429c-e749-5be80a6b34d2"
      },
      "execution_count": 10,
      "outputs": [
        {
          "output_type": "display_data",
          "data": {
            "text/plain": [
              "<Figure size 640x480 with 1 Axes>"
            ],
            "image/png": "[encoded data removed]"
          },
          "metadata": {}
        }
      ]
    }
  ]
}