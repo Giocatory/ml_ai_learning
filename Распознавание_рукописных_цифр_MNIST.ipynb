{
  "cells": [
    {
      "cell_type": "markdown",
      "metadata": {
        "id": "view-in-github",
        "colab_type": "text"
      },
      "source": [
        "<a href=\"https://colab.research.google.com/github/Giocatory/ml_ai_learning/blob/main/%D0%A0%D0%B0%D1%81%D0%BF%D0%BE%D0%B7%D0%BD%D0%B0%D0%B2%D0%B0%D0%BD%D0%B8%D0%B5_%D1%80%D1%83%D0%BA%D0%BE%D0%BF%D0%B8%D1%81%D0%BD%D1%8B%D1%85_%D1%86%D0%B8%D1%84%D1%80_MNIST.ipynb\" target=\"_parent\"><img src=\"https://colab.research.google.com/assets/colab-badge.svg\" alt=\"Open In Colab\"/></a>"
      ]
    },
    {
      "cell_type": "code",
      "source": [
        "from tensorflow.keras.datasets import mnist     # Библиотека с базой рукописных цифр\n",
        "from tensorflow.keras.models import Sequential  # Подключение класса создания модели Sequential\n",
        "from tensorflow.keras.optimizers import Adam\n",
        "from tensorflow.keras.layers import Dense       # Подключение класса Dense - полносвязный слой\n",
        "from tensorflow.keras import utils              # Утилиты для подготовки данных\n",
        "import numpy as np                              # Работа с массивами\n",
        "import matplotlib.pyplot as plt                 # Отрисовка изображений"
      ],
      "metadata": {
        "id": "9mP4y4ku-APq"
      },
      "execution_count": 1,
      "outputs": []
    },
    {
      "cell_type": "markdown",
      "source": [
        "x_train_org, y_train_org – изображения для обучения нейронной сети;\n",
        "\n",
        "x_test_org, y_test_org – изображения для тестирования нейронной сети."
      ],
      "metadata": {
        "id": "bjwZB1vp-ZRs"
      }
    },
    {
      "cell_type": "code",
      "source": [
        "(x_train_org, y_train_org), (x_test_org, y_test_org) = mnist.load_data()"
      ],
      "metadata": {
        "colab": {
          "base_uri": "https://localhost:8080/"
        },
        "id": "mlnemEEv-Dou",
        "outputId": "797e5f21-9157-4e9f-9438-d3d777058e4f"
      },
      "execution_count": 2,
      "outputs": [
        {
          "output_type": "stream",
          "name": "stdout",
          "text": [
            "Downloading data from https://storage.googleapis.com/tensorflow/tf-keras-datasets/mnist.npz\n",
            "11490434/11490434 [==============================] - 0s 0us/step\n"
          ]
        }
      ]
    },
    {
      "cell_type": "code",
      "source": [
        "# Вывод формы данных для обучения\n",
        "print(x_train_org.shape)\n",
        "print(y_train_org.shape)\n",
        "print(x_test_org.shape)\n",
        "print(y_test_org.shape)"
      ],
      "metadata": {
        "colab": {
          "base_uri": "https://localhost:8080/"
        },
        "id": "RwumJVyV-Tcp",
        "outputId": "f648645c-bb66-4357-c604-bda1b662bb46"
      },
      "execution_count": 4,
      "outputs": [
        {
          "output_type": "stream",
          "name": "stdout",
          "text": [
            "(60000, 28, 28)\n",
            "(60000,)\n",
            "(10000, 28, 28)\n",
            "(10000,)\n"
          ]
        }
      ]
    },
    {
      "cell_type": "code",
      "source": [
        "# Убедитесь, что ваши данные действительно представляют собой картинки с числами.\n",
        "example_x_train = x_train_org[143]\n",
        "print(example_x_train.shape)\n",
        "print(y_train_org[143])\n",
        "\n",
        "plt.imshow(example_x_train, cmap='gray')\n",
        "plt.show()"
      ],
      "metadata": {
        "colab": {
          "base_uri": "https://localhost:8080/",
          "height": 465
        },
        "id": "3oPNE27M-3Iz",
        "outputId": "58aa71e4-41af-4357-edf8-25f2da51a463"
      },
      "execution_count": 17,
      "outputs": [
        {
          "output_type": "stream",
          "name": "stdout",
          "text": [
            "(28, 28)\n",
            "2\n"
          ]
        },
        {
          "output_type": "display_data",
          "data": {
            "text/plain": [
              "<Figure size 640x480 with 1 Axes>"
            ],
            "image/png": "[encoded data removed]"
          },
          "metadata": {}
        }
      ]
    },
    {
      "cell_type": "code",
      "source": [
        "# Изменение формы входных картинок с 28х28 на 784\n",
        "# первая ось остается без изменения, остальные складываются в вектор\n",
        "x_train = x_train_org.reshape(x_train_org.shape[0], -1)\n",
        "x_test = x_test_org.reshape(x_test_org.shape[0], -1)\n",
        "\n",
        "# Проверка результата\n",
        "print(f'Форма обучающих данных: {x_train_org.shape} -> {x_train.shape}')\n",
        "print(f'Форма  тестовых данных: {x_test_org.shape} -> {x_test.shape}')"
      ],
      "metadata": {
        "colab": {
          "base_uri": "https://localhost:8080/"
        },
        "id": "xnLSWvIrJTC5",
        "outputId": "44240ba8-350d-4dac-945c-0c8fa98d5a5d"
      },
      "execution_count": 18,
      "outputs": [
        {
          "output_type": "stream",
          "name": "stdout",
          "text": [
            "Форма обучающих данных: (60000, 28, 28) -> (60000, 784)\n",
            "Форма  тестовых данных: (10000, 28, 28) -> (10000, 784)\n"
          ]
        }
      ]
    },
    {
      "cell_type": "code",
      "source": [
        "# Нормализация входных картинок\n",
        "# Преобразование x_train в тип float32 (числа с плавающей точкой) и нормализация\n",
        "x_train = x_train.astype('float32') / 255.\n",
        "\n",
        "# Преобразование x_test в тип float32 (числа с плавающей точкой) и нормализация\n",
        "x_test = x_test.astype('float32') / 255."
      ],
      "metadata": {
        "id": "nlB7cx9SJbvk"
      },
      "execution_count": 19,
      "outputs": []
    },
    {
      "cell_type": "code",
      "source": [
        "# Задание константы количества распознаваемых классов\n",
        "\n",
        "CLASS_COUNT = 10"
      ],
      "metadata": {
        "id": "vEZaCxgELhci"
      },
      "execution_count": 20,
      "outputs": []
    },
    {
      "cell_type": "code",
      "source": [
        "# Преобразование ответов в формат one_hot_encoding\n",
        "y_train = utils.to_categorical(y_train_org, CLASS_COUNT)\n",
        "y_test = utils.to_categorical(y_test_org, CLASS_COUNT)"
      ],
      "metadata": {
        "id": "-DViHJtkLivi"
      },
      "execution_count": 21,
      "outputs": []
    },
    {
      "cell_type": "code",
      "source": [
        "# Вывод формы y_train\n",
        "# 60 тысяч примеров, каждый длины 10 по числу классов\n",
        "print(y_train.shape)"
      ],
      "metadata": {
        "colab": {
          "base_uri": "https://localhost:8080/"
        },
        "id": "6KorZVxRLrfF",
        "outputId": "138c92b0-1b18-464e-93d4-c466b14bd174"
      },
      "execution_count": 22,
      "outputs": [
        {
          "output_type": "stream",
          "name": "stdout",
          "text": [
            "(60000, 10)\n"
          ]
        }
      ]
    },
    {
      "cell_type": "code",
      "source": [
        "# Вывод примера одного выходного вектора\n",
        "print(y_train[0])"
      ],
      "metadata": {
        "colab": {
          "base_uri": "https://localhost:8080/"
        },
        "id": "7D6j6hnIL5oS",
        "outputId": "68fc17f9-bb7d-46b6-a3ac-20b2e2048410"
      },
      "execution_count": 23,
      "outputs": [
        {
          "output_type": "stream",
          "name": "stdout",
          "text": [
            "[0. 0. 0. 0. 0. 1. 0. 0. 0. 0.]\n"
          ]
        }
      ]
    },
    {
      "cell_type": "code",
      "source": [
        "# Вывод формы массива меток\n",
        "print(y_train_org.shape)"
      ],
      "metadata": {
        "colab": {
          "base_uri": "https://localhost:8080/"
        },
        "id": "X83GCi7zMFVX",
        "outputId": "a417b74f-fcd8-4ca8-bb83-ab965ce6c0b3"
      },
      "execution_count": 24,
      "outputs": [
        {
          "output_type": "stream",
          "name": "stdout",
          "text": [
            "(60000,)\n"
          ]
        }
      ]
    },
    {
      "cell_type": "code",
      "source": [
        "# Вывод метки, соответствующей 36-му элементу\n",
        "print(y_train_org[143])"
      ],
      "metadata": {
        "colab": {
          "base_uri": "https://localhost:8080/"
        },
        "id": "1wTO_BWPMI0P",
        "outputId": "d2e1d0bb-8682-46f9-9b1f-d0e29b2b47ec"
      },
      "execution_count": 26,
      "outputs": [
        {
          "output_type": "stream",
          "name": "stdout",
          "text": [
            "2\n"
          ]
        }
      ]
    },
    {
      "cell_type": "markdown",
      "source": [
        "Создание нейронной сети"
      ],
      "metadata": {
        "id": "yFST9P_cMOrw"
      }
    },
    {
      "cell_type": "code",
      "source": [
        "# Создание последовательной модели\n",
        "model = Sequential()\n",
        "\n",
        "# Добавление полносвязного слоя на 800 нейронов с relu-активацией\n",
        "model.add(Dense(800, input_dim=784, activation='relu', name='Dense_800'))\n",
        "\n",
        "# Добавление полносвязного слоя на 400 нейронов с relu-активацией\n",
        "model.add(Dense(400, activation='relu', name='Dense_400'))\n",
        "\n",
        "# Добавление полносвязного слоя с количеством нейронов по числу классов с softmax-активацией\n",
        "model.add(Dense(CLASS_COUNT, activation='softmax', name='Dense_10'))"
      ],
      "metadata": {
        "id": "cPe2embxMPR9"
      },
      "execution_count": 27,
      "outputs": []
    },
    {
      "cell_type": "code",
      "source": [
        "model.layers"
      ],
      "metadata": {
        "colab": {
          "base_uri": "https://localhost:8080/"
        },
        "id": "I-PRfyvfMyjv",
        "outputId": "8a577614-5421-4654-fbc0-140cd88b2b03"
      },
      "execution_count": 28,
      "outputs": [
        {
          "output_type": "execute_result",
          "data": {
            "text/plain": [
              "[<keras.src.layers.core.dense.Dense at 0x7a5da4567fd0>,\n",
              " <keras.src.layers.core.dense.Dense at 0x7a5da45e01c0>,\n",
              " <keras.src.layers.core.dense.Dense at 0x7a5da45e3730>]"
            ]
          },
          "metadata": {},
          "execution_count": 28
        }
      ]
    },
    {
      "cell_type": "code",
      "source": [
        "for layer in model.layers:\n",
        "    print(f'Layer: {layer.name}\\nActivation: {layer.activation.__name__}', end='\\n\\n')"
      ],
      "metadata": {
        "colab": {
          "base_uri": "https://localhost:8080/"
        },
        "id": "D0LvyvbHNDyX",
        "outputId": "2f847a71-a3f2-4390-9002-0093d8af2844"
      },
      "execution_count": 29,
      "outputs": [
        {
          "output_type": "stream",
          "name": "stdout",
          "text": [
            "Layer: Dense_800\n",
            "Activation: relu\n",
            "\n",
            "Layer: Dense_400\n",
            "Activation: relu\n",
            "\n",
            "Layer: Dense_10\n",
            "Activation: softmax\n",
            "\n"
          ]
        }
      ]
    },
    {
      "cell_type": "code",
      "source": [
        "# Компиляция модели\n",
        "model.compile(loss='categorical_crossentropy', optimizer='adam', metrics=['accuracy'])\n",
        "\n",
        "# Вывод структуры модели\n",
        "print(model.summary())"
      ],
      "metadata": {
        "colab": {
          "base_uri": "https://localhost:8080/"
        },
        "id": "qzGcZvf2NIXq",
        "outputId": "9e50ed7f-7ff3-4508-f911-f8be79eabcfc"
      },
      "execution_count": 30,
      "outputs": [
        {
          "output_type": "stream",
          "name": "stdout",
          "text": [
            "Model: \"sequential\"\n",
            "_________________________________________________________________\n",
            " Layer (type)                Output Shape              Param #   \n",
            "=================================================================\n",
            " Dense_800 (Dense)           (None, 800)               628000    \n",
            "                                                                 \n",
            " Dense_400 (Dense)           (None, 400)               320400    \n",
            "                                                                 \n",
            " Dense_10 (Dense)            (None, 10)                4010      \n",
            "                                                                 \n",
            "=================================================================\n",
            "Total params: 952410 (3.63 MB)\n",
            "Trainable params: 952410 (3.63 MB)\n",
            "Non-trainable params: 0 (0.00 Byte)\n",
            "_________________________________________________________________\n",
            "None\n"
          ]
        }
      ]
    },
    {
      "cell_type": "code",
      "source": [
        "model.fit(x_train,        # обучающая выборка, входные данные\n",
        "          y_train,        # обучающая выборка, выходные данные\n",
        "          batch_size=128, # кол-во примеров, которое обрабатывает нейронка перед одним изменением весов\n",
        "          epochs=15,      # количество эпох, когда нейронка обучается на всех примерах выборки\n",
        "          verbose=1)      # 0 - не визуализировать ход обучения, 1 - визуализировать"
      ],
      "metadata": {
        "colab": {
          "base_uri": "https://localhost:8080/"
        },
        "id": "LlDtM7vONOF2",
        "outputId": "455bad72-d5ff-4442-880d-e41ef646024c"
      },
      "execution_count": 31,
      "outputs": [
        {
          "output_type": "stream",
          "name": "stdout",
          "text": [
            "Epoch 1/15\n",
            "469/469 [==============================] - 11s 22ms/step - loss: 0.2046 - accuracy: 0.9394\n",
            "Epoch 2/15\n",
            "469/469 [==============================] - 11s 24ms/step - loss: 0.0748 - accuracy: 0.9765\n",
            "Epoch 3/15\n",
            "469/469 [==============================] - 12s 25ms/step - loss: 0.0481 - accuracy: 0.9852\n",
            "Epoch 4/15\n",
            "469/469 [==============================] - 10s 22ms/step - loss: 0.0362 - accuracy: 0.9881\n",
            "Epoch 5/15\n",
            "469/469 [==============================] - 11s 23ms/step - loss: 0.0238 - accuracy: 0.9924\n",
            "Epoch 6/15\n",
            "469/469 [==============================] - 11s 24ms/step - loss: 0.0225 - accuracy: 0.9927\n",
            "Epoch 7/15\n",
            "469/469 [==============================] - 11s 24ms/step - loss: 0.0201 - accuracy: 0.9931\n",
            "Epoch 8/15\n",
            "469/469 [==============================] - 9s 20ms/step - loss: 0.0149 - accuracy: 0.9950\n",
            "Epoch 9/15\n",
            "469/469 [==============================] - 11s 24ms/step - loss: 0.0137 - accuracy: 0.9955\n",
            "Epoch 10/15\n",
            "469/469 [==============================] - 11s 24ms/step - loss: 0.0111 - accuracy: 0.9964\n",
            "Epoch 11/15\n",
            "469/469 [==============================] - 10s 22ms/step - loss: 0.0134 - accuracy: 0.9957\n",
            "Epoch 12/15\n",
            "469/469 [==============================] - 10s 21ms/step - loss: 0.0119 - accuracy: 0.9960\n",
            "Epoch 13/15\n",
            "469/469 [==============================] - 11s 24ms/step - loss: 0.0085 - accuracy: 0.9971\n",
            "Epoch 14/15\n",
            "469/469 [==============================] - 11s 24ms/step - loss: 0.0096 - accuracy: 0.9969\n",
            "Epoch 15/15\n",
            "469/469 [==============================] - 10s 20ms/step - loss: 0.0089 - accuracy: 0.9971\n"
          ]
        },
        {
          "output_type": "execute_result",
          "data": {
            "text/plain": [
              "<keras.src.callbacks.History at 0x7a5da3eae170>"
            ]
          },
          "metadata": {},
          "execution_count": 31
        }
      ]
    },
    {
      "cell_type": "markdown",
      "source": [
        "Распознавание рукописных цифр"
      ],
      "metadata": {
        "id": "STu0bYF4QGa9"
      }
    },
    {
      "cell_type": "code",
      "source": [
        "# Номер тестовой цифры, которую будем распознавать\n",
        "n_rec = np.random.randint(x_test_org.shape[0])\n",
        "\n",
        "# Отображение картинки из тестового набора под номером n_rec\n",
        "plt.imshow(x_test_org[n_rec], cmap='gray')\n",
        "plt.show()"
      ],
      "metadata": {
        "colab": {
          "base_uri": "https://localhost:8080/",
          "height": 430
        },
        "id": "FML9Nl0RQG_f",
        "outputId": "36c13408-a387-470a-efd9-7c010eef76d1"
      },
      "execution_count": 46,
      "outputs": [
        {
          "output_type": "display_data",
          "data": {
            "text/plain": [
              "<Figure size 640x480 with 1 Axes>"
            ],
            "image/png": "[encoded data removed]"
          },
          "metadata": {}
        }
      ]
    },
    {
      "cell_type": "code",
      "source": [
        "# Выбор нужной картинки из тестовой выборки\n",
        "x = x_test[n_rec]\n",
        "\n",
        "# Проверка формы данных\n",
        "print(x.shape)\n",
        "\n",
        "# Добавление одной оси в начале, чтобы нейронка могла распознать пример\n",
        "# Массив из одного примера, так как нейронка принимает именно массивы примеров (батчи) для распознавания\n",
        "x = np.expand_dims(x, axis=0)\n",
        "\n",
        "# Проверка формы данных\n",
        "print(x.shape)"
      ],
      "metadata": {
        "colab": {
          "base_uri": "https://localhost:8080/"
        },
        "id": "IdL1T0tSQOFt",
        "outputId": "d4bfa9d1-4131-4802-f6b9-142571804964"
      },
      "execution_count": 47,
      "outputs": [
        {
          "output_type": "stream",
          "name": "stdout",
          "text": [
            "(784,)\n",
            "(1, 784)\n"
          ]
        }
      ]
    },
    {
      "cell_type": "code",
      "source": [
        "# Распознавание примера\n",
        "prediction = model.predict(x)"
      ],
      "metadata": {
        "colab": {
          "base_uri": "https://localhost:8080/"
        },
        "id": "24Nhrpc9QVs2",
        "outputId": "52cb4e65-1959-4fc7-af19-48bac354e62f"
      },
      "execution_count": 48,
      "outputs": [
        {
          "output_type": "stream",
          "name": "stdout",
          "text": [
            "1/1 [==============================] - 0s 37ms/step\n"
          ]
        }
      ]
    },
    {
      "cell_type": "code",
      "source": [
        "# Вывод результата - вектор из 10 чисел\n",
        "print(prediction)"
      ],
      "metadata": {
        "colab": {
          "base_uri": "https://localhost:8080/"
        },
        "id": "ByV_vXcbQYdC",
        "outputId": "49ce27b1-a7e6-4795-ad36-9145cc598b43"
      },
      "execution_count": 49,
      "outputs": [
        {
          "output_type": "stream",
          "name": "stdout",
          "text": [
            "[[1.4234927e-18 5.6513313e-16 2.2151094e-18 3.4544383e-12 1.7997591e-10\n",
            "  2.4591070e-17 2.3677129e-20 9.0440193e-13 7.0168459e-13 1.0000000e+00]]\n"
          ]
        }
      ]
    },
    {
      "cell_type": "code",
      "source": [
        "sum(prediction[0])"
      ],
      "metadata": {
        "colab": {
          "base_uri": "https://localhost:8080/"
        },
        "id": "TRgGAXPDQaqn",
        "outputId": "8c59230c-8344-4923-8c6f-f53dbf7254c2"
      },
      "execution_count": 50,
      "outputs": [
        {
          "output_type": "execute_result",
          "data": {
            "text/plain": [
              "1.000000000185037"
            ]
          },
          "metadata": {},
          "execution_count": 50
        }
      ]
    },
    {
      "cell_type": "code",
      "source": [
        "# Получение и вывод индекса самого большого элемента (это значение цифры, которую распознала сеть)\n",
        "pred = np.argmax(prediction)\n",
        "print(f'Распознана цифра: {pred}')"
      ],
      "metadata": {
        "colab": {
          "base_uri": "https://localhost:8080/"
        },
        "id": "biwlOm07Qd-x",
        "outputId": "01d52b9e-b94b-4100-ae6f-a7ec1ff38811"
      },
      "execution_count": 51,
      "outputs": [
        {
          "output_type": "stream",
          "name": "stdout",
          "text": [
            "Распознана цифра: 9\n"
          ]
        }
      ]
    },
    {
      "cell_type": "code",
      "source": [
        "# Вывод правильного ответа для сравнения\n",
        "print(y_test_org[n_rec])"
      ],
      "metadata": {
        "colab": {
          "base_uri": "https://localhost:8080/"
        },
        "id": "T_mT1dixQlYA",
        "outputId": "c1b3e14c-19f2-4c0c-91e2-6398bf945966"
      },
      "execution_count": 52,
      "outputs": [
        {
          "output_type": "stream",
          "name": "stdout",
          "text": [
            "9\n"
          ]
        }
      ]
    },
    {
      "cell_type": "code",
      "source": [
        "model.save('MNIST-Derkunov.keras')"
      ],
      "metadata": {
        "id": "C8FZdOkESw0f"
      },
      "execution_count": 53,
      "outputs": []
    }
  ],
  "metadata": {
    "colab": {
      "provenance": [],
      "include_colab_link": true
    },
    "kernelspec": {
      "display_name": "Python 3",
      "name": "python3"
    },
    "language_info": {
      "codemirror_mode": {
        "name": "ipython",
        "version": 3
      },
      "file_extension": ".py",
      "mimetype": "text/x-python",
      "name": "python",
      "nbconvert_exporter": "python",
      "pygments_lexer": "ipython3",
      "version": "3.11.5"
    }
  },
  "nbformat": 4,
  "nbformat_minor": 0
}